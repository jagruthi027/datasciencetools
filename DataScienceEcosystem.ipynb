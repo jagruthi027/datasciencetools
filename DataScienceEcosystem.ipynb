{
 "cells": [
  {
   "cell_type": "markdown",
   "id": "8848d767-5b28-479a-b28d-d9ffddc66b62",
   "metadata": {},
   "source": [
    "# Data science Tools and Ecosystem"
   ]
  },
  {
   "cell_type": "markdown",
   "id": "f1d9f80c-045d-45c9-9d8d-629fbd8dbf82",
   "metadata": {},
   "source": [
    "In this notebook, Data Science Tools and Ecosystem are summarized"
   ]
  },
  {
   "cell_type": "markdown",
   "id": "67c9fcab-b947-4884-aacf-82d2fe5c9d10",
   "metadata": {},
   "source": [
    "Some of the popular languages that Data Scientists use are:\n",
    "1. Python\n",
    "2. SQL\n",
    "3. R\n",
    "4. Scala\n",
    "5. C++"
   ]
  },
  {
   "cell_type": "markdown",
   "id": "56bdd342-51a5-4f75-87cf-c75f5d5b8ea4",
   "metadata": {},
   "source": [
    "Some of the commonly used libraries used by Data Scientists include:\n",
    "\n",
    "1. Keras\n",
    "2. scikit-learn\n",
    "3. Tensorflow\n",
    "4. PyTorch\n",
    "5. Pandas\n",
    "6. Matplotlib\n",
    "6. SciPy"
   ]
  },
  {
   "cell_type": "markdown",
   "id": "665aab1f-a3f0-4d05-ae21-8ca7db692400",
   "metadata": {},
   "source": [
    "|Data Science Tools|\n",
    "|---|\n",
    "|SAS|\n",
    "|Apache Hadoop|\n",
    "|TensorFlow|"
   ]
  },
  {
   "cell_type": "markdown",
   "id": "1c53053a-90c0-4ac6-b1d9-4a89ff6990f6",
   "metadata": {},
   "source": [
    "### Below are a few examples of evaluating arithmetic expressions in Python"
   ]
  },
  {
   "cell_type": "code",
   "execution_count": 1,
   "id": "688dd4b4-431a-4669-904a-472433e0e275",
   "metadata": {},
   "outputs": [
    {
     "data": {
      "text/plain": [
       "17"
      ]
     },
     "execution_count": 1,
     "metadata": {},
     "output_type": "execute_result"
    }
   ],
   "source": [
    "#This a simple arithmetic expression to mutiply then add integers\n",
    "(3*4)+5"
   ]
  },
  {
   "cell_type": "code",
   "execution_count": 3,
   "id": "7baa39df-4a74-4c2e-8233-8674f3c390e5",
   "metadata": {},
   "outputs": [
    {
     "data": {
      "text/plain": [
       "3.3333333333333335"
      ]
     },
     "execution_count": 3,
     "metadata": {},
     "output_type": "execute_result"
    }
   ],
   "source": [
    "# This will convert 200 minutes to hours by diving by 60\n",
    "200/60"
   ]
  },
  {
   "cell_type": "markdown",
   "id": "3dcdc1a7-be4f-4590-b2ee-2daf72a0ba7d",
   "metadata": {},
   "source": [
    "__Objectives__\n",
    "* List popular languages for Data Science\n",
    "* List commonly used libraries in Data Science\n",
    "* Introduce basic arithmetic expressions in Python\n",
    "* How to Provide comments in the cell"
   ]
  },
  {
   "cell_type": "markdown",
   "id": "7187e5d6-0914-40a8-9ef0-659c9c447796",
   "metadata": {},
   "source": [
    "## Author\n",
    "Shubhankar Nandakumar"
   ]
  }
 ],
 "metadata": {
  "kernelspec": {
   "display_name": "Python 3 (ipykernel)",
   "language": "python",
   "name": "python3"
  },
  "language_info": {
   "codemirror_mode": {
    "name": "ipython",
    "version": 3
   },
   "file_extension": ".py",
   "mimetype": "text/x-python",
   "name": "python",
   "nbconvert_exporter": "python",
   "pygments_lexer": "ipython3",
   "version": "3.12.4"
  }
 },
 "nbformat": 4,
 "nbformat_minor": 5
}
